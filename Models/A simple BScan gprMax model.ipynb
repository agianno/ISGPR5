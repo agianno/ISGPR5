{
 "cells": [
  {
   "cell_type": "markdown",
   "metadata": {},
   "source": [
    "# A simple model of a B-Scan "
   ]
  },
  {
   "cell_type": "markdown",
   "metadata": {},
   "source": [
    "Here we see how we can create a simple gprMax model of a B-Scan or otherwise known as a radargramm or simply a GPR scan. The process of designing the model is almost the same with the exception of specifying the *starting* locations of the transmitter and receiver and then the steps that gprMax will use in subsequent runs to move them in order to generate the simulated scan data one trace at the time. Obviously, the targets do not move!"
   ]
  },
  {
   "cell_type": "markdown",
   "metadata": {},
   "source": [
    "__EXECUTE THE FOLLOWING CELL BEFORE ANY ELSE!!!__"
   ]
  },
  {
   "cell_type": "code",
   "execution_count": 21,
   "metadata": {
    "scrolled": true
   },
   "outputs": [],
   "source": [
    "run ../setup/preamble.ipynb"
   ]
  },
  {
   "cell_type": "markdown",
   "metadata": {},
   "source": [
    "Consider another simple 2D model. We again assume that $z$-direction is infinite long and in the model it only has one cell width. So, let us consider an $x-y$ model of 0.6 metres by 0.3 metres and a spatial step of $\\Delta x = \\Delta y =$ 0.002 metres.\n",
    "\n",
    "We initially setup the source and receiver close to the edge of the model __but not very close to the boundaries of the grid and at least 10 cells away__ and over a half space of a simple material like sand and we will set the relative permiitivty of it to $\\epsilon_r$ = 3.5. We also will assume that there are no boundaries to this model for our waves and so absorbing boundaries are used by default around the edges of our numerical grid.\n",
    "\n",
    "We then will specify a cylindrical target at a depth of about 0.1 metres from the interface having a radius of 0.01 metres.\n",
    "\n",
    "Our scan will have 51 traces each separated by 0.008 metres. The first transmitter and receiver pair will be placed at (0.096, 0.256, 0) and (0.14, 0.256, 0) respectively.\n",
    "\n",
    "We will run the model for a simulated time of 7 nanoseconds and use a Hertzian dipole source with a centre frequency of 2000 MHz and amplitutde 1. The antennna current waveform has the shape of a gaussian derivative.\n",
    "\n",
    "We will call this model __simplesand.in__ and we will use the function __create_model__ below"
   ]
  },
  {
   "cell_type": "code",
   "execution_count": 2,
   "metadata": {},
   "outputs": [
    {
     "data": {
      "application/vnd.jupyter.widget-view+json": {
       "model_id": "e8a3ce207b354901a90e33f57ab757d5",
       "version_major": 2,
       "version_minor": 0
      },
      "text/plain": [
       "Accordion(children=(GridBox(children=(HBox(children=(Label(value='Title: ', layout=Layout(width='20%')), Text(…"
      ]
     },
     "metadata": {},
     "output_type": "display_data"
    },
    {
     "data": {
      "text/plain": [
       "<__main__.create_model at 0x7fae54abdb90>"
      ]
     },
     "execution_count": 2,
     "metadata": {},
     "output_type": "execute_result"
    },
    {
     "name": "stdout",
     "output_type": "stream",
     "text": [
      " Input file simplebscan.in was written successfully! \n",
      " Input file simplebscan.in was written successfully! \n"
     ]
    }
   ],
   "source": [
    "# Use function create_model() to create the input model for gprMax. Provide a filename as input to the function\n",
    "# with the extension '.in'. \n",
    "\n",
    "create_model('simplebscan.in')"
   ]
  },
  {
   "cell_type": "code",
   "execution_count": 22,
   "metadata": {},
   "outputs": [
    {
     "name": "stdout",
     "output_type": "stream",
     "text": [
      "#title: A simple B-Scan\n",
      "#domain: 0.6 0.3 0.002\n",
      "#dx_dy_dz: 0.002 0.002 0.002\n",
      "#time_window: 7e-9\n",
      "#messages: y\n",
      "#num_threads: 1 \n",
      "\n",
      "#material: 3.5 0 1 0 sand\n",
      "\n",
      "#waveform: gaussiandot 1 2000e6 mypulse\n",
      "#hertzian_dipole: z 0.096 0.256 0 mypulse\n",
      "#rx: 0.14 0.256 0\n",
      "\n",
      "#src_steps: 0.008 0 0\n",
      "#rx_steps: 0.008 0 0\n",
      "#box: 0 0 0 0.6 0.25 0.002 sand\n",
      "#cylinder: 0.3 0.15 0 0.3 0.15 0.002 0.01 pec\n",
      "#box: 0 0 0 0.6 0.03 0.002 free_space\n",
      "\n",
      "#geometry_view: 0 0 0 0.6 0.3 0.002 0.002 0.002 0.002 simplebscan n \n",
      "\n"
     ]
    }
   ],
   "source": [
    "# View input file for gprMax\n",
    "\n",
    "view_file('simplebscan.in')"
   ]
  },
  {
   "cell_type": "markdown",
   "metadata": {},
   "source": [
    "We run gprMax with the __-n NumberOfTraces__ flag to let it know how many runs we want!"
   ]
  },
  {
   "cell_type": "code",
   "execution_count": 26,
   "metadata": {},
   "outputs": [
    {
     "name": "stdout",
     "output_type": "stream",
     "text": [
      "\n",
      "=== Electromagnetic modelling software based on the Finite-Difference Time-Domain (FDTD) method \n",
      "\n",
      "\u001b[36m    www.gprmax.com   __  __\n",
      "     __ _ _ __  _ __|  \\/  | __ ___  __\n",
      "    / _` | '_ \\| '__| |\\/| |/ _` \\ \\/ /\n",
      "   | (_| | |_) | |  | |  | | (_| |>  <\n",
      "    \\__, | .__/|_|  |_|  |_|\\__,_/_/\\_\\\n",
      "    |___/|_|\n",
      "                     v3.1.5 (Big Smoke)\n",
      "\n",
      "\u001b[0m Copyright (C) 2015-2020: The University of Edinburgh\n",
      " Authors: Craig Warren and Antonis Giannopoulos\n",
      "\n",
      " gprMax is free software: you can redistribute it and/or modify it under the\n",
      "  terms of the GNU General Public License as published by the Free Software\n",
      "  Foundation, either version 3 of the License, or (at your option) any later\n",
      "  version.\n",
      " gprMax is distributed in the hope that it will be useful, but WITHOUT ANY\n",
      "  WARRANTY; without even the implied warranty of MERCHANTABILITY or FITNESS FOR\n",
      "  A PARTICULAR PURPOSE.  See the GNU General Public License for more details.\n",
      " You should have received a copy of the GNU General Public License along with\n",
      "  gprMax.  If not, see www.gnu.org/licenses.\n",
      "\n",
      "Host: jupyter-1-agianno-6ddfb5dc9d-nkkct | VMware, Inc. VMware Virtual Platform | 4 x Intel(R) Xeon(R) Gold 6138 CPU @ 2.00GHz (4 cores) | 23.4GiB RAM | Linux-3.10.0-1160.6.1.el7.x86_64-x86_64-with-debian-buster-sid\n",
      "\u001b[32m\n",
      "--- Model 1/4, input file: simplebscan.in -------------------------------------\n",
      "\u001b[0m\n",
      "Constants/variables used/available for Python scripting: {c: 299792458.0, current_model_run: 1, e0: 8.8541878128e-12, inputfile: /home/jovyan/ISGPR5_gui.git/1D Models/simplebscan.in, m0: 1.25663706212e-06, number_model_runs: 4, z0: 376.73031366686166}\n",
      "\n",
      "Model title: A simple B-Scan\n",
      "Number of CPU (OpenMP) threads: 1\n",
      "Spatial discretisation: 0.002 x 0.002 x 0.002m\n",
      "Domain size: 0.6 x 0.3 x 0.002m (300 x 150 x 1 = 45000 cells)\n",
      "Mode: 2D TMz\n",
      "Time step (at CFL limit): 4.71731e-12 secs\n",
      "Time window: 7e-09 secs (1485 iterations)\n",
      "Simple sources will step 0.008m, 0m, 0m for each model run.\n",
      "All receivers will step 0.008m, 0m, 0m for each model run.\n",
      "\n",
      "Waveform mypulse of type gaussiandot with maximum amplitude scaling 1, frequency 2e+09Hz created.\n",
      "Hertzian dipole with polarity z at 0.096m, 0.256m, 0m, using waveform mypulse created.\n",
      "Receiver at 0.14m, 0.256m, 0m with output component(s) Ex, Ey, Ez, Hx, Hy, Hz created.\n",
      "Material sand with eps_r=3.5, sigma=0 S/m; mu_r=1, sigma*=0 Ohm/m created.\n",
      "Geometry view from 0m, 0m, 0m, to 0.6m, 0.3m, 0.002m, discretisation 0.002m, 0.002m, 0.002m, with filename base simplebscan created.\n",
      "\n",
      "Memory (RAM) required: ~55.4MB\n",
      "\n",
      "Box from 0m, 0m, 0m, to 0.6m, 0.25m, 0.002m of material(s) sand created, dielectric smoothing is on.\n",
      "Cylinder with face centres 0.3m, 0.15m, 0m and 0.3m, 0.15m, 0.002m, with radius 0.01m, of material(s) pec created, dielectric smoothing is off.\n",
      "Box from 0m, 0m, 0m, to 0.6m, 0.03m, 0.002m of material(s) free_space created, dielectric smoothing is on.\n",
      "Processing geometry related cmds: 100%|███████| 3/3 [00:00<00:00, 662.99cmds/s]\n",
      "\n",
      "PML: formulation: HORIPML, order: 1, thickness: x0: 10, y0: 10, z0: 0, xmax: 10, ymax: 10, zmax: 0 cells\n",
      "Building PML boundaries: 100%|██████████████████| 4/4 [00:00<00:00, 561.54it/s]\n",
      "\n",
      "Building main grid: 100%|███████████████████████| 2/2 [00:00<00:00, 121.15it/s]\n",
      "\n",
      "Materials:\n",
      "    |                                 |                     |       | sigma |      | sigma*  | Dielectric \n",
      " ID | Name                            | Type                | eps_r | [S/m] | mu_r | [Ohm/m] | smoothable \n",
      "----+---------------------------------+---------------------+-------+-------+------+---------+------------\n",
      "  0 | pec                             | builtin             | 1     | inf   | 1    | 0       | False      \n",
      "  1 | free_space                      | builtin             | 1     | 0     | 1    | 0       | True       \n",
      "  2 | sand                            |                     | 3.5   | 0     | 1    | 0       | True       \n",
      "  3 | sand+sand+free_space+free_space | dielectric-smoothed | 2.25  | 0     | 1    | 0       | True       \n",
      "\n",
      "Numerical dispersion analysis: estimated largest physical phase-velocity error is -0.70% in material 'sand' whose wavelength sampled by 11 cells. Maximum significant frequency estimated as 7.2803e+09Hz\n",
      "\n",
      "Writing geometry view file 1/1, simplebscan1.vti: 100%|█| 270k/270k [00:00<00:0\n",
      "\n",
      "Output file: /home/jovyan/ISGPR5_gui.git/1D Models/simplebscan1.out\n",
      "\n",
      "Running simulation, model 1/4: 100%|██████| 1485/1485 [00:02<00:00, 724.40it/s]\n",
      "Memory (RAM) used: ~53.1MB\n",
      "Solving time [HH:MM:SS]: 0:00:02.050711\n",
      "\u001b[32m\n",
      "--- Model 2/4, input file: simplebscan.in -------------------------------------\n",
      "\u001b[0m\n",
      "Constants/variables used/available for Python scripting: {c: 299792458.0, current_model_run: 2, e0: 8.8541878128e-12, inputfile: /home/jovyan/ISGPR5_gui.git/1D Models/simplebscan.in, m0: 1.25663706212e-06, number_model_runs: 4, z0: 376.73031366686166}\n",
      "\n",
      "Model title: A simple B-Scan\n",
      "Number of CPU (OpenMP) threads: 1\n",
      "Spatial discretisation: 0.002 x 0.002 x 0.002m\n",
      "Domain size: 0.6 x 0.3 x 0.002m (300 x 150 x 1 = 45000 cells)\n",
      "Mode: 2D TMz\n",
      "Time step (at CFL limit): 4.71731e-12 secs\n",
      "Time window: 7e-09 secs (1485 iterations)\n",
      "Simple sources will step 0.008m, 0m, 0m for each model run.\n",
      "All receivers will step 0.008m, 0m, 0m for each model run.\n",
      "\n",
      "Waveform mypulse of type gaussiandot with maximum amplitude scaling 1, frequency 2e+09Hz created.\n",
      "Hertzian dipole with polarity z at 0.096m, 0.256m, 0m, using waveform mypulse created.\n",
      "Receiver at 0.14m, 0.256m, 0m with output component(s) Ex, Ey, Ez, Hx, Hy, Hz created.\n",
      "Material sand with eps_r=3.5, sigma=0 S/m; mu_r=1, sigma*=0 Ohm/m created.\n",
      "Geometry view from 0m, 0m, 0m, to 0.6m, 0.3m, 0.002m, discretisation 0.002m, 0.002m, 0.002m, with filename base simplebscan created.\n",
      "\n",
      "Memory (RAM) required: ~55.4MB\n",
      "\n",
      "Box from 0m, 0m, 0m, to 0.6m, 0.25m, 0.002m of material(s) sand created, dielectric smoothing is on.\n",
      "Cylinder with face centres 0.3m, 0.15m, 0m and 0.3m, 0.15m, 0.002m, with radius 0.01m, of material(s) pec created, dielectric smoothing is off.\n",
      "Box from 0m, 0m, 0m, to 0.6m, 0.03m, 0.002m of material(s) free_space created, dielectric smoothing is on.\n",
      "Processing geometry related cmds: 100%|███████| 3/3 [00:00<00:00, 678.51cmds/s]\n",
      "\n",
      "PML: formulation: HORIPML, order: 1, thickness: x0: 10, y0: 10, z0: 0, xmax: 10, ymax: 10, zmax: 0 cells\n",
      "Building PML boundaries: 100%|██████████████████| 4/4 [00:00<00:00, 286.84it/s]\n",
      "\n",
      "Building main grid: 100%|███████████████████████| 2/2 [00:00<00:00, 114.35it/s]\n",
      "\n",
      "Materials:\n",
      "    |                                 |                     |       | sigma |      | sigma*  | Dielectric \n",
      " ID | Name                            | Type                | eps_r | [S/m] | mu_r | [Ohm/m] | smoothable \n",
      "----+---------------------------------+---------------------+-------+-------+------+---------+------------\n",
      "  0 | pec                             | builtin             | 1     | inf   | 1    | 0       | False      \n",
      "  1 | free_space                      | builtin             | 1     | 0     | 1    | 0       | True       \n",
      "  2 | sand                            |                     | 3.5   | 0     | 1    | 0       | True       \n",
      "  3 | sand+sand+free_space+free_space | dielectric-smoothed | 2.25  | 0     | 1    | 0       | True       \n",
      "\n",
      "Numerical dispersion analysis: estimated largest physical phase-velocity error is -0.70% in material 'sand' whose wavelength sampled by 11 cells. Maximum significant frequency estimated as 7.2803e+09Hz\n",
      "\n",
      "Writing geometry view file 1/1, simplebscan2.vti: 100%|█| 270k/270k [00:00<00:0\n",
      "\n",
      "Output file: /home/jovyan/ISGPR5_gui.git/1D Models/simplebscan2.out\n",
      "\n",
      "Running simulation, model 2/4: 100%|██████| 1485/1485 [00:02<00:00, 715.04it/s]\n",
      "Memory (RAM) used: ~53.4MB\n",
      "Solving time [HH:MM:SS]: 0:00:02.077403\n",
      "\u001b[32m\n",
      "--- Model 3/4, input file: simplebscan.in -------------------------------------\n",
      "\u001b[0m\n",
      "Constants/variables used/available for Python scripting: {c: 299792458.0, current_model_run: 3, e0: 8.8541878128e-12, inputfile: /home/jovyan/ISGPR5_gui.git/1D Models/simplebscan.in, m0: 1.25663706212e-06, number_model_runs: 4, z0: 376.73031366686166}\n",
      "\n",
      "Model title: A simple B-Scan\n",
      "Number of CPU (OpenMP) threads: 1\n",
      "Spatial discretisation: 0.002 x 0.002 x 0.002m\n",
      "Domain size: 0.6 x 0.3 x 0.002m (300 x 150 x 1 = 45000 cells)\n",
      "Mode: 2D TMz\n",
      "Time step (at CFL limit): 4.71731e-12 secs\n",
      "Time window: 7e-09 secs (1485 iterations)\n",
      "Simple sources will step 0.008m, 0m, 0m for each model run.\n",
      "All receivers will step 0.008m, 0m, 0m for each model run.\n",
      "\n",
      "Waveform mypulse of type gaussiandot with maximum amplitude scaling 1, frequency 2e+09Hz created.\n",
      "Hertzian dipole with polarity z at 0.096m, 0.256m, 0m, using waveform mypulse created.\n",
      "Receiver at 0.14m, 0.256m, 0m with output component(s) Ex, Ey, Ez, Hx, Hy, Hz created.\n",
      "Material sand with eps_r=3.5, sigma=0 S/m; mu_r=1, sigma*=0 Ohm/m created.\n",
      "Geometry view from 0m, 0m, 0m, to 0.6m, 0.3m, 0.002m, discretisation 0.002m, 0.002m, 0.002m, with filename base simplebscan created.\n",
      "\n",
      "Memory (RAM) required: ~55.4MB\n",
      "\n"
     ]
    },
    {
     "name": "stdout",
     "output_type": "stream",
     "text": [
      "Box from 0m, 0m, 0m, to 0.6m, 0.25m, 0.002m of material(s) sand created, dielectric smoothing is on.\n",
      "Cylinder with face centres 0.3m, 0.15m, 0m and 0.3m, 0.15m, 0.002m, with radius 0.01m, of material(s) pec created, dielectric smoothing is off.\n",
      "Box from 0m, 0m, 0m, to 0.6m, 0.03m, 0.002m of material(s) free_space created, dielectric smoothing is on.\n",
      "Processing geometry related cmds: 100%|███████| 3/3 [00:00<00:00, 605.85cmds/s]\n",
      "\n",
      "PML: formulation: HORIPML, order: 1, thickness: x0: 10, y0: 10, z0: 0, xmax: 10, ymax: 10, zmax: 0 cells\n",
      "Building PML boundaries: 100%|██████████████████| 4/4 [00:00<00:00, 564.36it/s]\n",
      "\n",
      "Building main grid: 100%|███████████████████████| 2/2 [00:00<00:00, 100.92it/s]\n",
      "\n",
      "Materials:\n",
      "    |                                 |                     |       | sigma |      | sigma*  | Dielectric \n",
      " ID | Name                            | Type                | eps_r | [S/m] | mu_r | [Ohm/m] | smoothable \n",
      "----+---------------------------------+---------------------+-------+-------+------+---------+------------\n",
      "  0 | pec                             | builtin             | 1     | inf   | 1    | 0       | False      \n",
      "  1 | free_space                      | builtin             | 1     | 0     | 1    | 0       | True       \n",
      "  2 | sand                            |                     | 3.5   | 0     | 1    | 0       | True       \n",
      "  3 | sand+sand+free_space+free_space | dielectric-smoothed | 2.25  | 0     | 1    | 0       | True       \n",
      "\n",
      "Numerical dispersion analysis: estimated largest physical phase-velocity error is -0.70% in material 'sand' whose wavelength sampled by 11 cells. Maximum significant frequency estimated as 7.2803e+09Hz\n",
      "\n",
      "Writing geometry view file 1/1, simplebscan3.vti: 100%|█| 270k/270k [00:00<00:0\n",
      "\n",
      "Output file: /home/jovyan/ISGPR5_gui.git/1D Models/simplebscan3.out\n",
      "\n",
      "Running simulation, model 3/4: 100%|██████| 1485/1485 [00:02<00:00, 734.22it/s]\n",
      "Memory (RAM) used: ~53.6MB\n",
      "Solving time [HH:MM:SS]: 0:00:02.023165\n",
      "\u001b[32m\n",
      "--- Model 4/4, input file: simplebscan.in -------------------------------------\n",
      "\u001b[0m\n",
      "Constants/variables used/available for Python scripting: {c: 299792458.0, current_model_run: 4, e0: 8.8541878128e-12, inputfile: /home/jovyan/ISGPR5_gui.git/1D Models/simplebscan.in, m0: 1.25663706212e-06, number_model_runs: 4, z0: 376.73031366686166}\n",
      "\n",
      "Model title: A simple B-Scan\n",
      "Number of CPU (OpenMP) threads: 1\n",
      "Spatial discretisation: 0.002 x 0.002 x 0.002m\n",
      "Domain size: 0.6 x 0.3 x 0.002m (300 x 150 x 1 = 45000 cells)\n",
      "Mode: 2D TMz\n",
      "Time step (at CFL limit): 4.71731e-12 secs\n",
      "Time window: 7e-09 secs (1485 iterations)\n",
      "Simple sources will step 0.008m, 0m, 0m for each model run.\n",
      "All receivers will step 0.008m, 0m, 0m for each model run.\n",
      "\n",
      "Waveform mypulse of type gaussiandot with maximum amplitude scaling 1, frequency 2e+09Hz created.\n",
      "Hertzian dipole with polarity z at 0.096m, 0.256m, 0m, using waveform mypulse created.\n",
      "Receiver at 0.14m, 0.256m, 0m with output component(s) Ex, Ey, Ez, Hx, Hy, Hz created.\n",
      "Material sand with eps_r=3.5, sigma=0 S/m; mu_r=1, sigma*=0 Ohm/m created.\n",
      "Geometry view from 0m, 0m, 0m, to 0.6m, 0.3m, 0.002m, discretisation 0.002m, 0.002m, 0.002m, with filename base simplebscan created.\n",
      "\n",
      "Memory (RAM) required: ~55.4MB\n",
      "\n",
      "Box from 0m, 0m, 0m, to 0.6m, 0.25m, 0.002m of material(s) sand created, dielectric smoothing is on.\n",
      "Cylinder with face centres 0.3m, 0.15m, 0m and 0.3m, 0.15m, 0.002m, with radius 0.01m, of material(s) pec created, dielectric smoothing is off.\n",
      "Box from 0m, 0m, 0m, to 0.6m, 0.03m, 0.002m of material(s) free_space created, dielectric smoothing is on.\n",
      "Processing geometry related cmds: 100%|███████| 3/3 [00:00<00:00, 624.09cmds/s]\n",
      "\n",
      "PML: formulation: HORIPML, order: 1, thickness: x0: 10, y0: 10, z0: 0, xmax: 10, ymax: 10, zmax: 0 cells\n",
      "Building PML boundaries: 100%|██████████████████| 4/4 [00:00<00:00, 543.97it/s]\n",
      "\n",
      "Building main grid: 100%|███████████████████████| 2/2 [00:00<00:00, 116.59it/s]\n",
      "\n",
      "Materials:\n",
      "    |                                 |                     |       | sigma |      | sigma*  | Dielectric \n",
      " ID | Name                            | Type                | eps_r | [S/m] | mu_r | [Ohm/m] | smoothable \n",
      "----+---------------------------------+---------------------+-------+-------+------+---------+------------\n",
      "  0 | pec                             | builtin             | 1     | inf   | 1    | 0       | False      \n",
      "  1 | free_space                      | builtin             | 1     | 0     | 1    | 0       | True       \n",
      "  2 | sand                            |                     | 3.5   | 0     | 1    | 0       | True       \n",
      "  3 | sand+sand+free_space+free_space | dielectric-smoothed | 2.25  | 0     | 1    | 0       | True       \n",
      "\n",
      "Numerical dispersion analysis: estimated largest physical phase-velocity error is -0.70% in material 'sand' whose wavelength sampled by 11 cells. Maximum significant frequency estimated as 7.2803e+09Hz\n",
      "\n",
      "Writing geometry view file 1/1, simplebscan4.vti: 100%|█| 270k/270k [00:00<00:0\n",
      "\n",
      "Output file: /home/jovyan/ISGPR5_gui.git/1D Models/simplebscan4.out\n",
      "\n",
      "Running simulation, model 4/4: 100%|██████| 1485/1485 [00:02<00:00, 699.67it/s]\n",
      "Memory (RAM) used: ~53.6MB\n",
      "Solving time [HH:MM:SS]: 0:00:02.123191\n",
      "\n",
      "=== Simulation completed in [HH:MM:SS]: 0:00:08.733991 ========================\n",
      "\n",
      "\u001b[0m"
     ]
    }
   ],
   "source": [
    "!python -m gprMax simplebscan.in -n 4"
   ]
  },
  {
   "cell_type": "code",
   "execution_count": 27,
   "metadata": {
    "scrolled": true
   },
   "outputs": [
    {
     "data": {
      "image/png": "[encoded data removed]",
      "text/plain": [
       "<Figure size 1080x720 with 1 Axes>"
      ]
     },
     "metadata": {
      "needs_background": "light"
     },
     "output_type": "display_data"
    }
   ],
   "source": [
    "# View the 2D gprMax model to see if it is OK Remember that every model has a number at the end for each trace.\n",
    "\n",
    "gprMax_model('simplebscan1.vti')"
   ]
  },
  {
   "cell_type": "markdown",
   "metadata": {},
   "source": [
    "We can collect all the traces using a new function to read a B-scan but don't give the file extention!"
   ]
  },
  {
   "cell_type": "code",
   "execution_count": 28,
   "metadata": {},
   "outputs": [],
   "source": [
    "# the filename will be the input file base neame with a \".out\" extension \n",
    "Bscan, time, pos = gprMax_Bscan('simplebscan.out', 1, 'Ez')"
   ]
  },
  {
   "cell_type": "markdown",
   "metadata": {},
   "source": [
    "We can plot the results using the Bscan plotting function"
   ]
  },
  {
   "cell_type": "code",
   "execution_count": 29,
   "metadata": {},
   "outputs": [
    {
     "data": {
      "image/png": "[encoded data removed]",
      "text/plain": [
       "<Figure size 1080x720 with 1 Axes>"
      ]
     },
     "metadata": {
      "needs_background": "light"
     },
     "output_type": "display_data"
    }
   ],
   "source": [
    "# Plot B-scan - plot_Bscan(bscan, time_vector, time_offset) We do not have to use the time_offset if it is 0\n",
    "\n",
    "plot_Bscan(Bscan,time)"
   ]
  },
  {
   "cell_type": "markdown",
   "metadata": {},
   "source": [
    "Finally, if we want to export this Bscan using the same file format (.dzt) as used by the GSSI radar system so we can be able to import it into the processing software we will use for dealing with real GPR data, we can use the following __gprMax_to_dzt__ function"
   ]
  },
  {
   "cell_type": "code",
   "execution_count": 8,
   "metadata": {},
   "outputs": [
    {
     "name": "stdout",
     "output_type": "stream",
     "text": [
      "Dzt file has been written!\n"
     ]
    }
   ],
   "source": [
    "# gprMax_to_dzt('fileName', rx_number, 'component', FrequencyMHz2000, Tx_Rx_separtion, AScan_step_size)\n",
    "gprMax_to_dzt('simplebscan', 1, 'Ez', 2000, 0.08, 0.008)"
   ]
  },
  {
   "cell_type": "code",
   "execution_count": 18,
   "metadata": {},
   "outputs": [
    {
     "name": "stdout",
     "output_type": "stream",
     "text": [
      "Overwriting simplebscan.in\n"
     ]
    }
   ],
   "source": [
    "%%writefile simplebscan.in\n",
    "#title: A simple B-Scan\n",
    "#domain: 0.6 0.3 0.002\n",
    "#dx_dy_dz: 0.002 0.002 0.002\n",
    "#time_window: 7e-9\n",
    "#messages: y\n",
    "#num_threads: 1 \n",
    "\n",
    "#material: 3.5 0 1 0 sand\n",
    "\n",
    "#waveform: gaussiandot 1 2000e6 mypulse\n",
    "#hertzian_dipole: z 0.096 0.256 0 mypulse\n",
    "#rx: 0.14 0.256 0\n",
    "\n",
    "#src_steps: 0.008 0 0\n",
    "#rx_steps: 0.008 0 0\n",
    "#box: 0 0 0 0.6 0.25 0.002 sand\n",
    "#cylinder: 0.3 0.15 0 0.3 0.15 0.002 0.01 pec\n",
    "#box: 0 0 0 0.6 0.03 0.002 free_space\n",
    "\n",
    "#geometry_view: 0 0 0 0.6 0.3 0.002 0.002 0.002 0.002 simplebscan n \n"
   ]
  }
 ],
 "metadata": {
  "kernelspec": {
   "display_name": "Python 3",
   "language": "python",
   "name": "python3"
  },
  "language_info": {
   "codemirror_mode": {
    "name": "ipython",
    "version": 3
   },
   "file_extension": ".py",
   "mimetype": "text/x-python",
   "name": "python",
   "nbconvert_exporter": "python",
   "pygments_lexer": "ipython3",
   "version": "3.7.6"
  }
 },
 "nbformat": 4,
 "nbformat_minor": 4
}
