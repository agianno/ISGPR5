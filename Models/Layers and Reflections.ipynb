{
 "cells": [
  {
   "cell_type": "markdown",
   "metadata": {},
   "source": [
    "# Simple Layer model to study simple reflections "
   ]
  },
  {
   "cell_type": "markdown",
   "metadata": {},
   "source": [
    "In order to __\"run\"__ the Jupyter Notebook's code cells once you clicked on them just press __\"Shift+Enter\"__"
   ]
  },
  {
   "cell_type": "markdown",
   "metadata": {},
   "source": [
    "You can download gprMax from www.gprmax.com and install it on your computer but you do not have to do this for this course. Experimenting with simple GPR models can be done with the Jupyter Notebooks without needing to do too much - hopefully none! - of difficult programming steps. \n",
    "\n",
    "A lot of information and documentation exist on the gprMax website and if you want to explore further you can get in touch via the discussion board or chat message or email. \n",
    "\n",
    "Please __do consult the extensive documentation__ for more details.\n",
    "\n",
    "Download and install gprMax on Noteable. __This step needs to be performed only once__. \n",
    "Once created, Noteable will not delete the gprMax folder.\n",
    "\n",
    "The easiest way to do this is to open a terminal window and type the following commands one at a time pressing enter after each of them.\n",
    "```\n",
    "git clone https://github.com/gprMax/gprMax.git ~/gprMax\n",
    "cd ~/gprMax\n",
    "python setup.py build \n",
    "python setup.py install \n",
    "```\n"
   ]
  },
  {
   "cell_type": "markdown",
   "metadata": {},
   "source": [
    "First we always execute the following cell to setup things. It might take a while and you will see a star in the brackets that means it is running ..."
   ]
  },
  {
   "cell_type": "code",
   "execution_count": 95,
   "metadata": {},
   "outputs": [
    {
     "data": {
      "text/html": [
       "<style>div.output_scroll  {height: 30em}; </style>"
      ],
      "text/plain": [
       "<IPython.core.display.HTML object>"
      ]
     },
     "metadata": {},
     "output_type": "display_data"
    },
    {
     "name": "stdout",
     "output_type": "stream",
     "text": [
      "gprMax has been added to session!\n"
     ]
    }
   ],
   "source": [
    "run ../setup/preamble.ipynb"
   ]
  },
  {
   "cell_type": "markdown",
   "metadata": {},
   "source": [
    "Let us consider a simple 2D model. We assume that $z$-direction is infinite long and in the model it only has one cell width. So, let us consider an $x-y$ model of 0.3 metres by 0.3 metres and a spatial step of $\\Delta x = \\Delta y =$ 0.002 metres.\n",
    "\n",
    "We initially setup the source and receiver at the centre of the model over a half space of a simple material like sand and we will set the relative permiitivty of it to $\\epsilon_r$ = 4. We also will assume that there are no boundaries to this model for our waves and so absorbing boundaries are used by default around the edges of our numerical grid.\n",
    "\n",
    "We will then create a flat layer at a depth of about 0.2 metres from the surface with another material which intiially will assumed to be a perfect electric conductor (pec). gprMax knows about a __pec__ material and we do not need the properties of it. Similarly it knows about free space properties as well!\n",
    "\n",
    "We will run the model for a simulated time of 7 nanoseconds and use a Hertzian dipole source - which in a 2D model is a infinite line source - with a centre frequency of 2000 MHz and amplitutde 1. The current waveform of this source has the shape of a ricker wavelet.\n",
    "\n",
    "We will call this model __simplelayer.in__ and we can save this file using the cell below"
   ]
  },
  {
   "cell_type": "code",
   "execution_count": 109,
   "metadata": {
    "scrolled": true
   },
   "outputs": [
    {
     "name": "stdout",
     "output_type": "stream",
     "text": [
      "Overwriting simplelayer.in\n"
     ]
    }
   ],
   "source": [
    "%%writefile simplelayer.in\n",
    "#title: My simple layer model\n",
    "#domain: 0.3 0.3 0.002\n",
    "#dx_dy_dz: 0.002 0.002 0.002\n",
    "#time_window: 7e-9\n",
    "#messages: y\n",
    "#num_threads: 1 \n",
    "\n",
    "#material: 4 0 1 0 sand\n",
    "\n",
    "#waveform: ricker 1 2000e6 mypulse\n",
    "#hertzian_dipole: z 0.13 0.252 0 mypulse\n",
    "#rx: 0.17 0.252 0\n",
    "\n",
    "#box: 0 0 0 0.3 0.25 0.002 sand\n",
    "#box: 0 0 0 0.3 0.05 0.002 pec\n",
    "\n",
    "#geometry_view: 0 0 0 0.3 0.3 0.002 0.002 0.002 0.002 simplelayer n "
   ]
  },
  {
   "cell_type": "markdown",
   "metadata": {},
   "source": [
    "We can see the input file we generated running the cell below!"
   ]
  },
  {
   "cell_type": "code",
   "execution_count": 110,
   "metadata": {
    "scrolled": true
   },
   "outputs": [
    {
     "name": "stdout",
     "output_type": "stream",
     "text": [
      "#title: My simple layer model\n",
      "#domain: 0.3 0.3 0.002\n",
      "#dx_dy_dz: 0.002 0.002 0.002\n",
      "#time_window: 7e-9\n",
      "#messages: y\n",
      "#num_threads: 1 \n",
      "\n",
      "#material: 4 0 1 0 sand\n",
      "\n",
      "#waveform: ricker 1 2000e6 mypulse\n",
      "#hertzian_dipole: z 0.13 0.252 0 mypulse\n",
      "#rx: 0.17 0.252 0\n",
      "\n",
      "#box: 0 0 0 0.3 0.25 0.002 sand\n",
      "#box: 0 0 0 0.3 0.05 0.002 pec\n",
      "\n",
      "#geometry_view: 0 0 0 0.3 0.3 0.002 0.002 0.002 0.002 simplelayer n \n",
      "\n"
     ]
    }
   ],
   "source": [
    "# View input file for gprMax\n",
    "\n",
    "view_file('simplelayer.in')"
   ]
  },
  {
   "cell_type": "markdown",
   "metadata": {},
   "source": [
    "We are ready to run the model using our input file as an argument to the gprMax program"
   ]
  },
  {
   "cell_type": "code",
   "execution_count": 111,
   "metadata": {
    "scrolled": true
   },
   "outputs": [
    {
     "name": "stdout",
     "output_type": "stream",
     "text": [
      "\n",
      "=== Electromagnetic modelling software based on the Finite-Difference Time-Domain (FDTD) method \n",
      "\n",
      "    www.gprmax.com   __  __\n",
      "     __ _ _ __  _ __|  \\/  | __ ___  __\n",
      "    / _` | '_ \\| '__| |\\/| |/ _` \\ \\/ /\n",
      "   | (_| | |_) | |  | |  | | (_| |>  <\n",
      "    \\__, | .__/|_|  |_|  |_|\\__,_/_/\\_\\\n",
      "    |___/|_|\n",
      "                     v3.1.6 (Big Smoke)\n",
      "\n",
      " Copyright (C) 2015-2022: The University of Edinburgh\n",
      " Authors: Craig Warren and Antonis Giannopoulos\n",
      "\n",
      " gprMax is free software: you can redistribute it and/or modify it under the\n",
      "  terms of the GNU General Public License as published by the Free Software\n",
      "  Foundation, either version 3 of the License, or (at your option) any later\n",
      "  version.\n",
      " gprMax is distributed in the hope that it will be useful, but WITHOUT ANY\n",
      "  WARRANTY; without even the implied warranty of MERCHANTABILITY or FITNESS FOR\n",
      "  A PARTICULAR PURPOSE.  See the GNU General Public License for more details.\n",
      " You should have received a copy of the GNU General Public License along with\n",
      "  gprMax.  If not, see www.gnu.org/licenses.\n",
      "\n",
      "Host: noteable | VMware, Inc. VMware Virtual Platform | 4 x Intel(R) Xeon(R) Gold 6138 CPU @ 2.00GHz (4 cores) | 23.5GiB RAM | Linux-5.4.224-1.el7.elrepo.x86_64-x86_64-with-glibc2.31\n",
      "\n",
      "--- Model 1/1, input file: simplelayer.in -------------------------------------\n",
      "\n",
      "Constants/variables used/available for Python scripting: {c: 299792458.0, current_model_run: 1, e0: 8.8541878128e-12, inputfile: /home/jovyan/ISGPR5_2023/Models/simplelayer.in, m0: 1.25663706212e-06, number_model_runs: 1, z0: 376.73031366686166}\n",
      "\n",
      "Model title: My simple layer model\n",
      "Number of CPU (OpenMP) threads: 1\n",
      "Spatial discretisation: 0.002 x 0.002 x 0.002m\n",
      "Domain size: 0.3 x 0.3 x 0.002m (150 x 150 x 1 = 22500 cells)\n",
      "Mode: 2D TMz\n",
      "Time step (at CFL limit): 4.71731e-12 secs\n",
      "Time window: 7e-09 secs (1485 iterations)\n",
      "\n",
      "Waveform mypulse of type ricker with maximum amplitude scaling 1, frequency 2e+09Hz created.\n",
      "Hertzian dipole with polarity z at 0.13m, 0.252m, 0m, using waveform mypulse created.\n",
      "Receiver at 0.17m, 0.252m, 0m with output component(s) Ex, Ey, Ez, Hx, Hy, Hz created.\n",
      "Material sand with eps_r=4, sigma=0 S/m; mu_r=1, sigma*=0 Ohm/m created.\n",
      "Geometry view from 0m, 0m, 0m, to 0.3m, 0.3m, 0.002m, discretisation 0.002m, 0.002m, 0.002m, with filename base simplelayer created.\n",
      "\n",
      "Memory (RAM) required: ~52.7MB\n",
      "\n",
      "Box from 0m, 0m, 0m, to 0.3m, 0.25m, 0.002m of material(s) sand created, dielectric smoothing is on.\n",
      "Box from 0m, 0m, 0m, to 0.3m, 0.05m, 0.002m of material(s) pec created, dielectric smoothing is off.\n",
      "Processing geometry related cmds: 100%|████████| 2/2 [00:00<00:00, 83.31cmds/s]\n",
      "\n",
      "PML: formulation: HORIPML, order: 1, thickness: x0: 10, y0: 10, z0: 0, xmax: 10, ymax: 10, zmax: 0 cells\n",
      "Building PML boundaries: 100%|█████████████████| 4/4 [00:00<00:00, 1220.96it/s]\n",
      "\n",
      "Building main grid: 100%|███████████████████████| 2/2 [00:00<00:00, 509.11it/s]\n",
      "\n",
      "Materials:\n",
      "    |                                 |                     |       | sigma |      | sigma*  | Dielectric \n",
      " ID | Name                            | Type                | eps_r | [S/m] | mu_r | [Ohm/m] | smoothable \n",
      "----+---------------------------------+---------------------+-------+-------+------+---------+------------\n",
      "  0 | pec                             | builtin             | 1     | inf   | 1    | 0       | False      \n",
      "  1 | free_space                      | builtin             | 1     | 0     | 1    | 0       | True       \n",
      "  2 | sand                            |                     | 4     | 0     | 1    | 0       | True       \n",
      "  3 | free_space+free_space+sand+sand | dielectric-smoothed | 2.5   | 0     | 1    | 0       | True       \n",
      "\n",
      "Numerical dispersion analysis: estimated largest physical phase-velocity error is -0.46% in material 'sand' whose wavelength sampled by 13 cells. Maximum significant frequency estimated as 5.56729e+09Hz\n",
      "\n",
      "Writing geometry view file 1/1, simplelayer.vti: 100%|█| 135k/135k [00:00<00:00\n",
      "\n",
      "Output file: /home/jovyan/ISGPR5_2023/Models/simplelayer.out\n",
      "\n",
      "Running simulation, model 1/1: 100%|█████| 1485/1485 [00:00<00:00, 1755.08it/s]\n",
      "Memory (RAM) used: ~67.6MB\n",
      "Solving time [HH:MM:SS]: 0:00:00.846442\n",
      "\n",
      "=== Simulation completed in [HH:MM:SS]: 0:00:00.947424 ========================\n",
      "\n"
     ]
    }
   ],
   "source": [
    "!python -m gprMax simplelayer.in "
   ]
  },
  {
   "cell_type": "markdown",
   "metadata": {},
   "source": [
    "We can also see the geometry of our model to make sure it looks OK! Remember the extension of a geometry file produced by gprMax is __.vti__"
   ]
  },
  {
   "cell_type": "code",
   "execution_count": 105,
   "metadata": {},
   "outputs": [
    {
     "data": {
      "image/png": "[encoded data removed]",
      "text/plain": [
       "<Figure size 1080x720 with 1 Axes>"
      ]
     },
     "metadata": {
      "needs_background": "light"
     },
     "output_type": "display_data"
    }
   ],
   "source": [
    "# View the 2D gprMax model to see if it is OK\n",
    "\n",
    "gprMax_model('simplelayer.vti')"
   ]
  },
  {
   "cell_type": "markdown",
   "metadata": {},
   "source": [
    "Once we have run our model let us see the output! We want to see the first output point and the Ez component which is the same direction as our source. The following function will give us the modelled GPR trace, a time vector useful for plotting and the position in model space of this output point"
   ]
  },
  {
   "cell_type": "code",
   "execution_count": 112,
   "metadata": {},
   "outputs": [],
   "source": [
    "# Get output A-scan data\n",
    "# dataVector, time, receiverPosition = gprMax_Ascan(filename, rx, rxcomponent)\n",
    "\n",
    "Ascan, time, pos = gprMax_Ascan('simplelayer.out', 1, 'Ez')"
   ]
  },
  {
   "cell_type": "markdown",
   "metadata": {},
   "source": [
    "Then we are ready to plot the result!!! "
   ]
  },
  {
   "cell_type": "code",
   "execution_count": 113,
   "metadata": {},
   "outputs": [
    {
     "data": {
      "image/png": "[encoded data removed]",
      "text/plain": [
       "<Figure size 1080x720 with 1 Axes>"
      ]
     },
     "metadata": {
      "needs_background": "light"
     },
     "output_type": "display_data"
    }
   ],
   "source": [
    "# Plot A-scan - plot_Ascan(trace, time_vector, rotate)\n",
    "\n",
    "plot_Ascan(Ascan, time, rotate = False)"
   ]
  },
  {
   "cell_type": "markdown",
   "metadata": {
    "tags": []
   },
   "source": [
    "### Can you introduce another material and replace the __pec__ material with it and see how the strength and the shape of the relfection changes?\n",
    "\n",
    "Remember that the simple reflection coefficient R for a 1D normal incidence pulse in a lossless medium is $R = \\frac{\\sqrt{\\epsilon_{r_1}}-\\sqrt{\\epsilon_{r_2}}}{\\sqrt{\\epsilon_{r_1}}+\\sqrt{\\epsilon_{r_2}}}$ The reflection coefficient for a perfect electric conductor (pec) is -1.\n"
   ]
  },
  {
   "cell_type": "markdown",
   "metadata": {},
   "source": [
    "### What causes the second smaller reflection? Is it always there? What you observe for different materials?\n",
    "\n",
    "(Hint: If we don't see something in our simple plots does it mean it is defenetely not there?)"
   ]
  },
  {
   "cell_type": "markdown",
   "metadata": {},
   "source": [
    "### What happens when small amounts of conductivity $\\sigma$ is introduced? Could we have reflections only due to conducticvity? "
   ]
  }
 ],
 "metadata": {
  "kernelspec": {
   "display_name": "Python 3 (ipykernel)",
   "language": "python",
   "name": "python3"
  },
  "language_info": {
   "codemirror_mode": {
    "name": "ipython",
    "version": 3
   },
   "file_extension": ".py",
   "mimetype": "text/x-python",
   "name": "python",
   "nbconvert_exporter": "python",
   "pygments_lexer": "ipython3",
   "version": "3.9.12"
  }
 },
 "nbformat": 4,
 "nbformat_minor": 4
}
